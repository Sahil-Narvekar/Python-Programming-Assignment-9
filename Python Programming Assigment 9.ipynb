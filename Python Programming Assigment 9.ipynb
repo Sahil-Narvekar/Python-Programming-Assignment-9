{
 "cells": [
  {
   "cell_type": "code",
   "execution_count": null,
   "metadata": {},
   "outputs": [],
   "source": [
    "1. Write a Python program to check if the given number is a Disarium Number?"
   ]
  },
  {
   "cell_type": "code",
   "execution_count": 82,
   "metadata": {},
   "outputs": [
    {
     "name": "stdout",
     "output_type": "stream",
     "text": [
      "Enter the number 89\n",
      "Given number is a Disarium Number \n"
     ]
    }
   ],
   "source": [
    "b=(int(input('Enter the number ')))\n",
    "a=str(b)\n",
    "k=[int(i) for i in a]\n",
    "k=[k[i]**(i+1) for i in range(len(k))]\n",
    "sum=0\n",
    "for i in k:\n",
    "    sum+=i\n",
    "if sum==b:\n",
    "    print('Given number is a Disarium Number ')\n",
    "else:\n",
    "    print('Given number is not a Disarium Number ')"
   ]
  },
  {
   "cell_type": "code",
   "execution_count": null,
   "metadata": {},
   "outputs": [],
   "source": [
    "2. Write a Python program to print all disarium numbers between 1 to 100?"
   ]
  },
  {
   "cell_type": "code",
   "execution_count": 97,
   "metadata": {},
   "outputs": [
    {
     "name": "stdout",
     "output_type": "stream",
     "text": [
      "[1, 2, 3, 4, 5, 6, 7, 8, 9, 89, 135, 175]\n"
     ]
    }
   ],
   "source": [
    "c=[]\n",
    "for b in range(1,200):\n",
    "    a=str(b)\n",
    "    k=[int(i) for i in a]\n",
    "    k=[k[i]**(i+1) for i in range(len(k))]\n",
    "    sum=0\n",
    "    for i in k:\n",
    "        sum+=i\n",
    "    if sum==b:\n",
    "        c.append(b)\n",
    "print(c) "
   ]
  },
  {
   "cell_type": "code",
   "execution_count": null,
   "metadata": {},
   "outputs": [],
   "source": [
    "3. Write a Python program to check if the given number is Happy Number?"
   ]
  },
  {
   "cell_type": "code",
   "execution_count": 7,
   "metadata": {},
   "outputs": [
    {
     "name": "stdout",
     "output_type": "stream",
     "text": [
      "Enter the number 899\n",
      "Given number is happy number\n"
     ]
    }
   ],
   "source": [
    "b=(int(input('Enter the number ')))\n",
    "sum=0\n",
    "a=str(b)\n",
    "g=0\n",
    "count=0\n",
    "while sum!=1:\n",
    "    if g==0:\n",
    "        k=[int(i) for i in a]\n",
    "    if g==2:\n",
    "        a=str(sum)\n",
    "        k=[int(i) for i in a]\n",
    "        sum=0 \n",
    "    k=[k[i]**(2) for i in range(len(k))]\n",
    "    for i in k:\n",
    "        sum+=i\n",
    "        g=2\n",
    "    count+=1\n",
    "    if count==20:\n",
    "        print('Not a happy number')\n",
    "        break\n",
    "    if sum==1:\n",
    "        print('Given number is happy number')\n",
    "        break\n",
    "    "
   ]
  },
  {
   "cell_type": "code",
   "execution_count": null,
   "metadata": {},
   "outputs": [],
   "source": [
    "4. Write a Python program to print all happy numbers between 1 and 100?"
   ]
  },
  {
   "cell_type": "code",
   "execution_count": 9,
   "metadata": {},
   "outputs": [
    {
     "name": "stdout",
     "output_type": "stream",
     "text": [
      "[1, 7, 10, 13, 19, 23, 28, 31, 32, 44, 49, 68, 70, 79, 82, 86, 91, 94, 97, 100]\n"
     ]
    }
   ],
   "source": [
    "v=[]\n",
    "for b in range(1,101):\n",
    "    sum=0\n",
    "    a=str(b)\n",
    "    g=0\n",
    "    count=0\n",
    "    while sum!=1:\n",
    "        if g==0:\n",
    "            k=[int(i) for i in a]\n",
    "        if g==2:\n",
    "            a=str(sum)\n",
    "            k=[int(i) for i in a]\n",
    "            sum=0 \n",
    "        k=[k[i]**(2) for i in range(len(k))]\n",
    "        for i in k:\n",
    "            sum+=i\n",
    "            g=2\n",
    "        count+=1\n",
    "        if count==20:\n",
    "            break\n",
    "        if sum==1:\n",
    "            v.append(b)\n",
    "            break\n",
    "print(v)"
   ]
  },
  {
   "cell_type": "code",
   "execution_count": 10,
   "metadata": {},
   "outputs": [
    {
     "name": "stdout",
     "output_type": "stream",
     "text": [
      "enter number456\n",
      "[4, 5, 6]\n"
     ]
    }
   ],
   "source": [
    "a=str(input('enter number'))\n",
    "a=[int(i) for i in a]\n",
    "print(a)"
   ]
  },
  {
   "cell_type": "code",
   "execution_count": null,
   "metadata": {},
   "outputs": [],
   "source": [
    "5. Write a Python program to determine whether the given number is a Harshad Number?"
   ]
  },
  {
   "cell_type": "code",
   "execution_count": 31,
   "metadata": {},
   "outputs": [
    {
     "name": "stdout",
     "output_type": "stream",
     "text": [
      "Enter the number 6804\n",
      "It is Harshad number\n"
     ]
    }
   ],
   "source": [
    "b1=int(input('Enter the number '))\n",
    "sum=0\n",
    "c=str(b1)\n",
    "a=[int(i) for i in c]\n",
    "for i in a:\n",
    "    sum+=i\n",
    "k=b1/sum\n",
    "if b1%sum==0:\n",
    "    print('It is Harshad number')\n",
    "else:\n",
    "    print('Not a Harshad number')"
   ]
  },
  {
   "cell_type": "code",
   "execution_count": null,
   "metadata": {},
   "outputs": [],
   "source": [
    "6. Write a Python program to print all pronic numbers between 1 and 100?"
   ]
  },
  {
   "cell_type": "code",
   "execution_count": 36,
   "metadata": {},
   "outputs": [
    {
     "name": "stdout",
     "output_type": "stream",
     "text": [
      "0,2,6,12,20,30,42,56,72,90,"
     ]
    }
   ],
   "source": [
    "i=0\n",
    "z=1\n",
    "while z<=100:\n",
    "    z=(i)*(i+1)\n",
    "    i+=1\n",
    "    if z<=100:\n",
    "        print(z,end=',')\n",
    "    else:\n",
    "        break\n",
    "    "
   ]
  },
  {
   "cell_type": "code",
   "execution_count": null,
   "metadata": {},
   "outputs": [],
   "source": []
  }
 ],
 "metadata": {
  "kernelspec": {
   "display_name": "Python 3",
   "language": "python",
   "name": "python3"
  }
 },
 "nbformat": 4,
 "nbformat_minor": 4
}
